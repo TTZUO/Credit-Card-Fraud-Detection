{
 "cells": [
  {
   "cell_type": "markdown",
   "metadata": {},
   "source": [
    "#### Gruop: Jingmin Chen, Yusen Wu"
   ]
  },
  {
   "cell_type": "markdown",
   "metadata": {},
   "source": [
    "## Credit Card Fraud Detection Project"
   ]
  },
  {
   "cell_type": "code",
   "execution_count": 1,
   "metadata": {},
   "outputs": [
    {
     "data": {
      "text/html": [
       "<div>\n",
       "<style scoped>\n",
       "    .dataframe tbody tr th:only-of-type {\n",
       "        vertical-align: middle;\n",
       "    }\n",
       "\n",
       "    .dataframe tbody tr th {\n",
       "        vertical-align: top;\n",
       "    }\n",
       "\n",
       "    .dataframe thead th {\n",
       "        text-align: right;\n",
       "    }\n",
       "</style>\n",
       "<table border=\"1\" class=\"dataframe\">\n",
       "  <thead>\n",
       "    <tr style=\"text-align: right;\">\n",
       "      <th></th>\n",
       "      <th>Time</th>\n",
       "      <th>V1</th>\n",
       "      <th>V2</th>\n",
       "      <th>V3</th>\n",
       "      <th>V4</th>\n",
       "      <th>V5</th>\n",
       "      <th>V6</th>\n",
       "      <th>V7</th>\n",
       "      <th>V8</th>\n",
       "      <th>V9</th>\n",
       "      <th>...</th>\n",
       "      <th>V21</th>\n",
       "      <th>V22</th>\n",
       "      <th>V23</th>\n",
       "      <th>V24</th>\n",
       "      <th>V25</th>\n",
       "      <th>V26</th>\n",
       "      <th>V27</th>\n",
       "      <th>V28</th>\n",
       "      <th>Amount</th>\n",
       "      <th>Class</th>\n",
       "    </tr>\n",
       "  </thead>\n",
       "  <tbody>\n",
       "    <tr>\n",
       "      <th>0</th>\n",
       "      <td>0.0</td>\n",
       "      <td>-1.359807</td>\n",
       "      <td>-0.072781</td>\n",
       "      <td>2.536347</td>\n",
       "      <td>1.378155</td>\n",
       "      <td>-0.338321</td>\n",
       "      <td>0.462388</td>\n",
       "      <td>0.239599</td>\n",
       "      <td>0.098698</td>\n",
       "      <td>0.363787</td>\n",
       "      <td>...</td>\n",
       "      <td>-0.018307</td>\n",
       "      <td>0.277838</td>\n",
       "      <td>-0.110474</td>\n",
       "      <td>0.066928</td>\n",
       "      <td>0.128539</td>\n",
       "      <td>-0.189115</td>\n",
       "      <td>0.133558</td>\n",
       "      <td>-0.021053</td>\n",
       "      <td>149.62</td>\n",
       "      <td>0</td>\n",
       "    </tr>\n",
       "    <tr>\n",
       "      <th>1</th>\n",
       "      <td>0.0</td>\n",
       "      <td>1.191857</td>\n",
       "      <td>0.266151</td>\n",
       "      <td>0.166480</td>\n",
       "      <td>0.448154</td>\n",
       "      <td>0.060018</td>\n",
       "      <td>-0.082361</td>\n",
       "      <td>-0.078803</td>\n",
       "      <td>0.085102</td>\n",
       "      <td>-0.255425</td>\n",
       "      <td>...</td>\n",
       "      <td>-0.225775</td>\n",
       "      <td>-0.638672</td>\n",
       "      <td>0.101288</td>\n",
       "      <td>-0.339846</td>\n",
       "      <td>0.167170</td>\n",
       "      <td>0.125895</td>\n",
       "      <td>-0.008983</td>\n",
       "      <td>0.014724</td>\n",
       "      <td>2.69</td>\n",
       "      <td>0</td>\n",
       "    </tr>\n",
       "    <tr>\n",
       "      <th>2</th>\n",
       "      <td>1.0</td>\n",
       "      <td>-1.358354</td>\n",
       "      <td>-1.340163</td>\n",
       "      <td>1.773209</td>\n",
       "      <td>0.379780</td>\n",
       "      <td>-0.503198</td>\n",
       "      <td>1.800499</td>\n",
       "      <td>0.791461</td>\n",
       "      <td>0.247676</td>\n",
       "      <td>-1.514654</td>\n",
       "      <td>...</td>\n",
       "      <td>0.247998</td>\n",
       "      <td>0.771679</td>\n",
       "      <td>0.909412</td>\n",
       "      <td>-0.689281</td>\n",
       "      <td>-0.327642</td>\n",
       "      <td>-0.139097</td>\n",
       "      <td>-0.055353</td>\n",
       "      <td>-0.059752</td>\n",
       "      <td>378.66</td>\n",
       "      <td>0</td>\n",
       "    </tr>\n",
       "    <tr>\n",
       "      <th>3</th>\n",
       "      <td>1.0</td>\n",
       "      <td>-0.966272</td>\n",
       "      <td>-0.185226</td>\n",
       "      <td>1.792993</td>\n",
       "      <td>-0.863291</td>\n",
       "      <td>-0.010309</td>\n",
       "      <td>1.247203</td>\n",
       "      <td>0.237609</td>\n",
       "      <td>0.377436</td>\n",
       "      <td>-1.387024</td>\n",
       "      <td>...</td>\n",
       "      <td>-0.108300</td>\n",
       "      <td>0.005274</td>\n",
       "      <td>-0.190321</td>\n",
       "      <td>-1.175575</td>\n",
       "      <td>0.647376</td>\n",
       "      <td>-0.221929</td>\n",
       "      <td>0.062723</td>\n",
       "      <td>0.061458</td>\n",
       "      <td>123.50</td>\n",
       "      <td>0</td>\n",
       "    </tr>\n",
       "    <tr>\n",
       "      <th>4</th>\n",
       "      <td>2.0</td>\n",
       "      <td>-1.158233</td>\n",
       "      <td>0.877737</td>\n",
       "      <td>1.548718</td>\n",
       "      <td>0.403034</td>\n",
       "      <td>-0.407193</td>\n",
       "      <td>0.095921</td>\n",
       "      <td>0.592941</td>\n",
       "      <td>-0.270533</td>\n",
       "      <td>0.817739</td>\n",
       "      <td>...</td>\n",
       "      <td>-0.009431</td>\n",
       "      <td>0.798278</td>\n",
       "      <td>-0.137458</td>\n",
       "      <td>0.141267</td>\n",
       "      <td>-0.206010</td>\n",
       "      <td>0.502292</td>\n",
       "      <td>0.219422</td>\n",
       "      <td>0.215153</td>\n",
       "      <td>69.99</td>\n",
       "      <td>0</td>\n",
       "    </tr>\n",
       "  </tbody>\n",
       "</table>\n",
       "<p>5 rows × 31 columns</p>\n",
       "</div>"
      ],
      "text/plain": [
       "   Time        V1        V2        V3        V4        V5        V6        V7  \\\n",
       "0   0.0 -1.359807 -0.072781  2.536347  1.378155 -0.338321  0.462388  0.239599   \n",
       "1   0.0  1.191857  0.266151  0.166480  0.448154  0.060018 -0.082361 -0.078803   \n",
       "2   1.0 -1.358354 -1.340163  1.773209  0.379780 -0.503198  1.800499  0.791461   \n",
       "3   1.0 -0.966272 -0.185226  1.792993 -0.863291 -0.010309  1.247203  0.237609   \n",
       "4   2.0 -1.158233  0.877737  1.548718  0.403034 -0.407193  0.095921  0.592941   \n",
       "\n",
       "         V8        V9  ...         V21       V22       V23       V24  \\\n",
       "0  0.098698  0.363787  ...   -0.018307  0.277838 -0.110474  0.066928   \n",
       "1  0.085102 -0.255425  ...   -0.225775 -0.638672  0.101288 -0.339846   \n",
       "2  0.247676 -1.514654  ...    0.247998  0.771679  0.909412 -0.689281   \n",
       "3  0.377436 -1.387024  ...   -0.108300  0.005274 -0.190321 -1.175575   \n",
       "4 -0.270533  0.817739  ...   -0.009431  0.798278 -0.137458  0.141267   \n",
       "\n",
       "        V25       V26       V27       V28  Amount  Class  \n",
       "0  0.128539 -0.189115  0.133558 -0.021053  149.62      0  \n",
       "1  0.167170  0.125895 -0.008983  0.014724    2.69      0  \n",
       "2 -0.327642 -0.139097 -0.055353 -0.059752  378.66      0  \n",
       "3  0.647376 -0.221929  0.062723  0.061458  123.50      0  \n",
       "4 -0.206010  0.502292  0.219422  0.215153   69.99      0  \n",
       "\n",
       "[5 rows x 31 columns]"
      ]
     },
     "execution_count": 1,
     "metadata": {},
     "output_type": "execute_result"
    }
   ],
   "source": [
    "import pandas as pd\n",
    "from sklearn.metrics import accuracy_score, precision_score,recall_score, f1_score,confusion_matrix\n",
    "from sklearn.preprocessing import StandardScaler\n",
    "import seaborn as sns\n",
    "from imblearn.under_sampling import RandomUnderSampler\n",
    "\n",
    "data = pd.read_csv(\"creditcard.csv\")\n",
    "data.head()"
   ]
  },
  {
   "cell_type": "code",
   "execution_count": 2,
   "metadata": {},
   "outputs": [
    {
     "name": "stderr",
     "output_type": "stream",
     "text": [
      "Using TensorFlow backend.\n"
     ]
    }
   ],
   "source": [
    "import keras\n",
    "from keras.models import Sequential\n",
    "from keras.layers import Dense, Flatten, Dropout, BatchNormalization, Conv2D, MaxPooling2D\n",
    "from keras.optimizers import Adam\n",
    "from keras.callbacks import TensorBoard\n",
    "import keras.backend as K\n",
    "from keras.preprocessing.image import save_img\n",
    "from sklearn.metrics import confusion_matrix,classification_report"
   ]
  },
  {
   "cell_type": "code",
   "execution_count": 3,
   "metadata": {},
   "outputs": [
    {
     "name": "stdout",
     "output_type": "stream",
     "text": [
      "Fraud:  492\n",
      "total:  284807\n",
      "Fraud rate:  0.00173\n"
     ]
    }
   ],
   "source": [
    "Fraud = data[data['Class']==1]\n",
    "Normal = data[data['Class']==0]\n",
    "print(\"Fraud: \",len(Fraud))\n",
    "print(\"total: \",len(data))\n",
    "print(\"Fraud rate: \",round((len(Fraud)/len(data)),5))\n",
    "Y = data['Class']\n",
    "X = data.drop(['Class'],axis=1)"
   ]
  },
  {
   "cell_type": "code",
   "execution_count": 4,
   "metadata": {},
   "outputs": [],
   "source": [
    "undersample = RandomUnderSampler(sampling_strategy=0.0035)"
   ]
  },
  {
   "cell_type": "markdown",
   "metadata": {},
   "source": [
    "###  Feature selection"
   ]
  },
  {
   "cell_type": "code",
   "execution_count": 5,
   "metadata": {},
   "outputs": [
    {
     "name": "stdout",
     "output_type": "stream",
     "text": [
      "Number of selected features:  16\n"
     ]
    },
    {
     "data": {
      "text/plain": [
       "['V1',\n",
       " 'V2',\n",
       " 'V3',\n",
       " 'V4',\n",
       " 'V5',\n",
       " 'V6',\n",
       " 'V7',\n",
       " 'V9',\n",
       " 'V10',\n",
       " 'V11',\n",
       " 'V12',\n",
       " 'V14',\n",
       " 'V16',\n",
       " 'V17',\n",
       " 'V18',\n",
       " 'V21']"
      ]
     },
     "execution_count": 5,
     "metadata": {},
     "output_type": "execute_result"
    }
   ],
   "source": [
    "dfcorr = data.corr()\n",
    "features = dfcorr.Class[dfcorr.Class.abs()>0.04].index\n",
    "features = list(features)\n",
    "features.remove('Class')\n",
    "print(\"Number of selected features: \",len(features))\n",
    "features"
   ]
  },
  {
   "cell_type": "code",
   "execution_count": 401,
   "metadata": {},
   "outputs": [],
   "source": [
    "# drop extra features\n",
    "Y = data['Class']\n",
    "X = data.drop(['Class','Time','Amount','V8','V13','V15','V19','V20','V22','V23','V24','V25','V26','V27','V28'],axis=1)"
   ]
  },
  {
   "cell_type": "code",
   "execution_count": 402,
   "metadata": {},
   "outputs": [
    {
     "name": "stdout",
     "output_type": "stream",
     "text": [
      "Number of Normal data:  (140571,)\n",
      "Number of Fraud data:  (492,)\n"
     ]
    }
   ],
   "source": [
    "# Use random undersample technique to reduce the size of normal data to about half of the original data\n",
    "X_half, y_half = undersample.fit_resample(X, Y)\n",
    "print(\"Number of Normal data: \",y_half[y_half == 0].shape)\n",
    "print(\"Number of Fraud data: \", y_half[y_half == 1].shape)"
   ]
  },
  {
   "cell_type": "code",
   "execution_count": 403,
   "metadata": {},
   "outputs": [],
   "source": [
    "# Split data to 0.9 training set and 0.1 test set\n",
    "# split 0.2 validate set from 0.9 training set\n",
    "from sklearn.model_selection import train_test_split\n",
    "\n",
    "X_train, X_test, Y_train, Y_test = train_test_split(X_half, y_half, test_size=0.1, random_state=7)\n",
    "\n",
    "X_train2, X_validate, y_train2, y_validate = train_test_split(X_train, Y_train, \n",
    "                                                            test_size=0.2, random_state=42)\n",
    "# Apply Standard Scaler for data transformation\n",
    "scalar = StandardScaler()\n",
    "X_train = scalar.fit_transform(X_train)\n",
    "X_validate = scalar.transform(X_validate)\n",
    "X_test = scalar.transform(X_test)\n"
   ]
  },
  {
   "cell_type": "code",
   "execution_count": 404,
   "metadata": {},
   "outputs": [],
   "source": [
    "# Reshape 16 features to 4*4 for CNN model\n",
    "X_test = X_test.reshape(X_test.shape[0],4,4,1)\n",
    "X_validate = X_validate.reshape(X_validate.shape[0],4,4,1)\n",
    "X_train1 = X_train.reshape(X_train.shape[0],4,4,1)"
   ]
  },
  {
   "cell_type": "code",
   "execution_count": 386,
   "metadata": {},
   "outputs": [
    {
     "name": "stdout",
     "output_type": "stream",
     "text": [
      "_________________________________________________________________\n",
      "Layer (type)                 Output Shape              Param #   \n",
      "=================================================================\n",
      "conv2d_47 (Conv2D)           (None, 4, 5, 32)          160       \n",
      "_________________________________________________________________\n",
      "batch_normalization_30 (Batc (None, 4, 5, 32)          128       \n",
      "_________________________________________________________________\n",
      "max_pooling2d_42 (MaxPooling (None, 2, 2, 32)          0         \n",
      "_________________________________________________________________\n",
      "flatten_31 (Flatten)         (None, 128)               0         \n",
      "_________________________________________________________________\n",
      "dropout_31 (Dropout)         (None, 128)               0         \n",
      "_________________________________________________________________\n",
      "dense_61 (Dense)             (None, 256)               33024     \n",
      "_________________________________________________________________\n",
      "dense_62 (Dense)             (None, 1)                 257       \n",
      "=================================================================\n",
      "Total params: 33,569\n",
      "Trainable params: 33,505\n",
      "Non-trainable params: 64\n",
      "_________________________________________________________________\n"
     ]
    }
   ],
   "source": [
    "# Create CNN model\n",
    "model = Sequential()\n",
    "model.add(Conv2D(32,(2,2),activation='relu', input_shape=X_train1[0].shape))\n",
    "# Allows higher learning rates and increasing the training speed\n",
    "model.add(BatchNormalization())\n",
    "# Reduces the computational cost by reducing the number of parameters\n",
    "model.add(MaxPooling2D(2,2))\n",
    "\n",
    "\n",
    "model.add(Flatten())\n",
    "model.add(Dropout(0.4))\n",
    "model.add(Dense(256, activation='relu'))\n",
    "\n",
    "\n",
    "model.add(Dense(1, activation='sigmoid'))\n",
    "\n",
    "model.summary()"
   ]
  },
  {
   "cell_type": "markdown",
   "metadata": {},
   "source": [
    "#### CNN model with selected features"
   ]
  },
  {
   "cell_type": "code",
   "execution_count": 388,
   "metadata": {},
   "outputs": [
    {
     "name": "stdout",
     "output_type": "stream",
     "text": [
      "Train on 126956 samples, validate on 25392 samples\n",
      "Epoch 1/20\n",
      "126956/126956 [==============================] - 23s 181us/step - loss: 0.0366 - acc: 0.9968 - val_loss: 0.0075 - val_acc: 0.9990\n",
      "Epoch 2/20\n",
      "126956/126956 [==============================] - 21s 163us/step - loss: 0.0112 - acc: 0.9983 - val_loss: 0.0108 - val_acc: 0.9969\n",
      "Epoch 3/20\n",
      "126956/126956 [==============================] - 21s 164us/step - loss: 0.0086 - acc: 0.9985 - val_loss: 0.0054 - val_acc: 0.9992\n",
      "Epoch 4/20\n",
      "126956/126956 [==============================] - 21s 165us/step - loss: 0.0083 - acc: 0.9986 - val_loss: 0.0054 - val_acc: 0.9991\n",
      "Epoch 5/20\n",
      "126956/126956 [==============================] - 21s 164us/step - loss: 0.0091 - acc: 0.9985 - val_loss: 0.0047 - val_acc: 0.9992\n",
      "Epoch 6/20\n",
      "126956/126956 [==============================] - 21s 169us/step - loss: 0.0072 - acc: 0.9987 - val_loss: 0.0050 - val_acc: 0.9991\n",
      "Epoch 7/20\n",
      "126956/126956 [==============================] - 21s 164us/step - loss: 0.0070 - acc: 0.9987 - val_loss: 0.0045 - val_acc: 0.9992\n",
      "Epoch 8/20\n",
      "126956/126956 [==============================] - 21s 164us/step - loss: 0.0065 - acc: 0.9989 - val_loss: 0.0040 - val_acc: 0.9992\n",
      "Epoch 9/20\n",
      "126956/126956 [==============================] - 21s 163us/step - loss: 0.0066 - acc: 0.9988 - val_loss: 0.0042 - val_acc: 0.9992\n",
      "Epoch 10/20\n",
      "126956/126956 [==============================] - 21s 163us/step - loss: 0.0062 - acc: 0.9989 - val_loss: 0.0040 - val_acc: 0.9994\n",
      "Epoch 11/20\n",
      "126956/126956 [==============================] - 22s 173us/step - loss: 0.0060 - acc: 0.9989 - val_loss: 0.0039 - val_acc: 0.9993\n",
      "Epoch 12/20\n",
      "126956/126956 [==============================] - 21s 169us/step - loss: 0.0062 - acc: 0.9989 - val_loss: 0.0038 - val_acc: 0.9993\n",
      "Epoch 13/20\n",
      "126956/126956 [==============================] - 22s 171us/step - loss: 0.0065 - acc: 0.9988 - val_loss: 0.0039 - val_acc: 0.9994\n",
      "Epoch 14/20\n",
      "126956/126956 [==============================] - 21s 165us/step - loss: 0.0060 - acc: 0.9988 - val_loss: 0.0038 - val_acc: 0.9994\n",
      "Epoch 15/20\n",
      "126956/126956 [==============================] - 21s 164us/step - loss: 0.0060 - acc: 0.9988 - val_loss: 0.0042 - val_acc: 0.9993\n",
      "Epoch 16/20\n",
      "126956/126956 [==============================] - 22s 171us/step - loss: 0.0061 - acc: 0.9988 - val_loss: 0.0039 - val_acc: 0.9995\n",
      "Epoch 17/20\n",
      "126956/126956 [==============================] - 21s 164us/step - loss: 0.0059 - acc: 0.9989 - val_loss: 0.0037 - val_acc: 0.9994\n",
      "Epoch 18/20\n",
      "126956/126956 [==============================] - 21s 163us/step - loss: 0.0056 - acc: 0.9990 - val_loss: 0.0037 - val_acc: 0.9994\n",
      "Epoch 19/20\n",
      "126956/126956 [==============================] - 21s 166us/step - loss: 0.0059 - acc: 0.9990 - val_loss: 0.0034 - val_acc: 0.9995\n",
      "Epoch 20/20\n",
      "126956/126956 [==============================] - 21s 167us/step - loss: 0.0057 - acc: 0.9989 - val_loss: 0.0036 - val_acc: 0.9993\n"
     ]
    }
   ],
   "source": [
    "# Fit model\n",
    "model.compile(optimizer=Adam(0.001), loss='binary_crossentropy', metrics=['accuracy'])\n",
    "History = model.fit(X_train1, Y_train,  \n",
    "              epochs=20,\n",
    "            validation_data=(X_validate, y_validate)\n",
    "             )"
   ]
  },
  {
   "cell_type": "code",
   "execution_count": 115,
   "metadata": {},
   "outputs": [
    {
     "name": "stdout",
     "output_type": "stream",
     "text": [
      "Accuracy Score:  0.9990075848869355\n",
      "Precision Score:  0.9375\n",
      "Recall Score:  0.8035714285714286\n",
      "F1 score:  0.8653846153846154\n",
      "False negative rate:  0.19642857142857142\n"
     ]
    },
    {
     "data": {
      "image/png": "[encoded data removed]",
      "text/plain": [
       "<Figure size 432x288 with 2 Axes>"
      ]
     },
     "metadata": {},
     "output_type": "display_data"
    }
   ],
   "source": [
    "y_test_pred = model.predict(X_test)\n",
    "df_cm = pd.DataFrame(confusion_matrix(Y_test, y_test_pred.round()), range(2),range(2))\n",
    "sns.set(font_scale=1.4)#for label size\n",
    "sns.heatmap(df_cm, annot=True,annot_kws={\"size\": 16}, fmt='g')\n",
    "print(\"Accuracy Score: \",accuracy_score(Y_test, y_test_pred.round()))\n",
    "print(\"Precision Score: \",precision_score(Y_test, y_test_pred.round()))\n",
    "print(\"Recall Score: \",recall_score(Y_test, y_test_pred.round()))\n",
    "print(\"F1 score: \",f1_score(Y_test, y_test_pred.round()))\n",
    "print(\"False negative rate: \",df_cm[0][1]/(df_cm[0][1]+df_cm[1][1]))"
   ]
  },
  {
   "cell_type": "code",
   "execution_count": 227,
   "metadata": {},
   "outputs": [],
   "source": [
    "# Use all features\n",
    "Y = data['Class']\n",
    "X = data.drop(['Class'],axis=1)\n",
    "X_half, y_half = undersample.fit_resample(X, Y)"
   ]
  },
  {
   "cell_type": "code",
   "execution_count": 372,
   "metadata": {},
   "outputs": [],
   "source": [
    "# Split data to Training set and test set\n",
    "X_train, X_test, Y_train, Y_test = train_test_split(X_half, y_half, test_size=0.1, random_state=7)\n",
    "\n",
    "X_train2, X_validate, y_train2, y_validate = train_test_split(X_train, Y_train, \n",
    "                                                            test_size=0.2, random_state=42)\n",
    "scalar = StandardScaler()\n",
    "X_train = scalar.fit_transform(X_train)\n",
    "X_validate = scalar.transform(X_validate)\n",
    "X_test = scalar.transform(X_test)\n"
   ]
  },
  {
   "cell_type": "code",
   "execution_count": 374,
   "metadata": {},
   "outputs": [],
   "source": [
    "# Use Smote technique\n",
    "from imblearn.over_sampling import SMOTE\n",
    "sm = SMOTE(random_state=42)\n",
    "Xsm_train, ysm_train = sm.fit_sample(X_train, Y_train)"
   ]
  },
  {
   "cell_type": "code",
   "execution_count": 375,
   "metadata": {},
   "outputs": [],
   "source": [
    "# Reshape 30 features to 5*6 from CNN model\n",
    "Xsm_train1 = Xsm_train.reshape(Xsm_train.shape[0],5,6,1)\n",
    "X_test = X_test.reshape(X_test.shape[0],5,6,1)\n",
    "X_validate = X_validate.reshape(X_validate.shape[0],5,6,1)\n",
    "X_train1 = X_train.reshape(X_train.shape[0],5,6,1)"
   ]
  },
  {
   "cell_type": "code",
   "execution_count": 390,
   "metadata": {},
   "outputs": [
    {
     "name": "stdout",
     "output_type": "stream",
     "text": [
      "_________________________________________________________________\n",
      "Layer (type)                 Output Shape              Param #   \n",
      "=================================================================\n",
      "conv2d_48 (Conv2D)           (None, 4, 5, 32)          160       \n",
      "_________________________________________________________________\n",
      "batch_normalization_31 (Batc (None, 4, 5, 32)          128       \n",
      "_________________________________________________________________\n",
      "max_pooling2d_43 (MaxPooling (None, 2, 2, 32)          0         \n",
      "_________________________________________________________________\n",
      "flatten_32 (Flatten)         (None, 128)               0         \n",
      "_________________________________________________________________\n",
      "dropout_32 (Dropout)         (None, 128)               0         \n",
      "_________________________________________________________________\n",
      "dense_63 (Dense)             (None, 256)               33024     \n",
      "_________________________________________________________________\n",
      "dense_64 (Dense)             (None, 1)                 257       \n",
      "=================================================================\n",
      "Total params: 33,569\n",
      "Trainable params: 33,505\n",
      "Non-trainable params: 64\n",
      "_________________________________________________________________\n"
     ]
    }
   ],
   "source": [
    "# Create model\n",
    "model = Sequential()\n",
    "model.add(Conv2D(32,(2,2),activation='relu', input_shape=X_train1[0].shape))\n",
    "model.add(BatchNormalization())\n",
    "model.add(MaxPooling2D(2,2))\n",
    "\n",
    "\n",
    "model.add(Flatten())\n",
    "model.add(Dropout(0.4))#0.2 - 0.5\n",
    "model.add(Dense(256, activation='relu'))\n",
    "\n",
    "model.add(Dense(1, activation='sigmoid'))\n",
    "\n",
    "model.summary()"
   ]
  },
  {
   "cell_type": "markdown",
   "metadata": {},
   "source": [
    "#### CNN model with SMOTE"
   ]
  },
  {
   "cell_type": "code",
   "execution_count": 382,
   "metadata": {
    "scrolled": true
   },
   "outputs": [
    {
     "name": "stdout",
     "output_type": "stream",
     "text": [
      "Train on 253040 samples, validate on 25392 samples\n",
      "Epoch 1/20\n",
      "253040/253040 [==============================] - 36s 142us/step - loss: 0.1101 - acc: 0.9581 - val_loss: 0.0568 - val_acc: 0.9828\n",
      "Epoch 2/20\n",
      "253040/253040 [==============================] - 32s 126us/step - loss: 0.0598 - acc: 0.9783 - val_loss: 0.0403 - val_acc: 0.9875\n",
      "Epoch 3/20\n",
      "253040/253040 [==============================] - 32s 127us/step - loss: 0.0479 - acc: 0.9834 - val_loss: 0.0312 - val_acc: 0.9904\n",
      "Epoch 4/20\n",
      "253040/253040 [==============================] - 32s 128us/step - loss: 0.0409 - acc: 0.9862 - val_loss: 0.0242 - val_acc: 0.9927\n",
      "Epoch 5/20\n",
      "253040/253040 [==============================] - 33s 129us/step - loss: 0.0369 - acc: 0.9877 - val_loss: 0.0211 - val_acc: 0.9937\n",
      "Epoch 6/20\n",
      "253040/253040 [==============================] - 34s 135us/step - loss: 0.0341 - acc: 0.9887 - val_loss: 0.0234 - val_acc: 0.9923\n",
      "Epoch 7/20\n",
      "253040/253040 [==============================] - 34s 135us/step - loss: 0.0319 - acc: 0.9897 - val_loss: 0.0257 - val_acc: 0.9915\n",
      "Epoch 8/20\n",
      "253040/253040 [==============================] - 34s 136us/step - loss: 0.0301 - acc: 0.9905 - val_loss: 0.0294 - val_acc: 0.9907\n",
      "Epoch 9/20\n",
      "253040/253040 [==============================] - 34s 134us/step - loss: 0.0296 - acc: 0.9906 - val_loss: 0.0224 - val_acc: 0.9932\n",
      "Epoch 10/20\n",
      "253040/253040 [==============================] - 33s 129us/step - loss: 0.0278 - acc: 0.9911 - val_loss: 0.0221 - val_acc: 0.9929\n",
      "Epoch 11/20\n",
      "253040/253040 [==============================] - 33s 129us/step - loss: 0.0252 - acc: 0.9920 - val_loss: 0.0192 - val_acc: 0.9939\n",
      "Epoch 12/20\n",
      "253040/253040 [==============================] - 33s 130us/step - loss: 0.0250 - acc: 0.9921 - val_loss: 0.0145 - val_acc: 0.9961\n",
      "Epoch 13/20\n",
      "253040/253040 [==============================] - 33s 128us/step - loss: 0.0247 - acc: 0.9923 - val_loss: 0.0158 - val_acc: 0.9952\n",
      "Epoch 14/20\n",
      "253040/253040 [==============================] - 33s 130us/step - loss: 0.0244 - acc: 0.9924 - val_loss: 0.0152 - val_acc: 0.9961\n",
      "Epoch 15/20\n",
      "253040/253040 [==============================] - 37s 147us/step - loss: 0.0236 - acc: 0.9930 - val_loss: 0.0203 - val_acc: 0.9940\n",
      "Epoch 16/20\n",
      "253040/253040 [==============================] - 39s 155us/step - loss: 0.0230 - acc: 0.9931 - val_loss: 0.0173 - val_acc: 0.9952\n",
      "Epoch 17/20\n",
      "253040/253040 [==============================] - 38s 152us/step - loss: 0.0226 - acc: 0.9930 - val_loss: 0.0245 - val_acc: 0.9920\n",
      "Epoch 18/20\n",
      "253040/253040 [==============================] - 39s 153us/step - loss: 0.0228 - acc: 0.9931 - val_loss: 0.0157 - val_acc: 0.9954\n",
      "Epoch 19/20\n",
      "253040/253040 [==============================] - 39s 155us/step - loss: 0.0215 - acc: 0.9935 - val_loss: 0.0142 - val_acc: 0.9954\n",
      "Epoch 20/20\n",
      "253040/253040 [==============================] - 39s 154us/step - loss: 0.0210 - acc: 0.9936 - val_loss: 0.0176 - val_acc: 0.9945\n"
     ]
    }
   ],
   "source": [
    "model.compile(optimizer=Adam(0.001), loss='binary_crossentropy', metrics=['accuracy'])\n",
    "History = model.fit(Xsm_train1, ysm_train,  \n",
    "              epochs=20,\n",
    "            validation_data=(X_validate, y_validate)\n",
    "             )"
   ]
  },
  {
   "cell_type": "code",
   "execution_count": 383,
   "metadata": {},
   "outputs": [
    {
     "name": "stdout",
     "output_type": "stream",
     "text": [
      "Accuracy Score:  0.9927695470333877\n",
      "Precision Score:  0.35064935064935066\n",
      "Recall Score:  0.9642857142857143\n",
      "F1 score:  0.5142857142857143\n",
      "False negative rate:  0.03571428571428571\n"
     ]
    },
    {
     "data": {
      "image/png": "[encoded data removed]",
      "text/plain": [
       "<Figure size 432x288 with 2 Axes>"
      ]
     },
     "metadata": {},
     "output_type": "display_data"
    }
   ],
   "source": [
    "y_test_pred = model.predict(X_test)\n",
    "df_cm = pd.DataFrame(confusion_matrix(Y_test, y_test_pred.round()), range(2),range(2))\n",
    "sns.set(font_scale=1.4)#for label size\n",
    "sns.heatmap(df_cm, annot=True,annot_kws={\"size\": 16}, fmt='g')\n",
    "print(\"Accuracy Score: \",accuracy_score(Y_test, y_test_pred.round()))\n",
    "print(\"Precision Score: \",precision_score(Y_test, y_test_pred.round()))\n",
    "print(\"Recall Score: \",recall_score(Y_test, y_test_pred.round()))\n",
    "print(\"F1 score: \",f1_score(Y_test, y_test_pred.round()))\n",
    "print(\"False negative rate: \",df_cm[0][1]/(df_cm[0][1]+df_cm[1][1]))"
   ]
  },
  {
   "cell_type": "code",
   "execution_count": 380,
   "metadata": {
    "scrolled": true
   },
   "outputs": [
    {
     "name": "stdout",
     "output_type": "stream",
     "text": [
      "Train on 126956 samples, validate on 25392 samples\n",
      "Epoch 1/25\n",
      "126956/126956 [==============================] - 21s 165us/step - loss: 0.0265 - acc: 0.9976 - val_loss: 0.0062 - val_acc: 0.9991\n",
      "Epoch 2/25\n",
      "126956/126956 [==============================] - 16s 129us/step - loss: 0.0097 - acc: 0.9984 - val_loss: 0.0059 - val_acc: 0.9989\n",
      "Epoch 3/25\n",
      "126956/126956 [==============================] - 17s 131us/step - loss: 0.0089 - acc: 0.9985 - val_loss: 0.0055 - val_acc: 0.9989\n",
      "Epoch 4/25\n",
      "126956/126956 [==============================] - 17s 131us/step - loss: 0.0085 - acc: 0.9987 - val_loss: 0.0064 - val_acc: 0.9987\n",
      "Epoch 5/25\n",
      "126956/126956 [==============================] - 17s 133us/step - loss: 0.0080 - acc: 0.9987 - val_loss: 0.0054 - val_acc: 0.9991\n",
      "Epoch 6/25\n",
      "126956/126956 [==============================] - 17s 134us/step - loss: 0.0068 - acc: 0.9987 - val_loss: 0.0046 - val_acc: 0.9991\n",
      "Epoch 7/25\n",
      "126956/126956 [==============================] - 17s 134us/step - loss: 0.0071 - acc: 0.9987 - val_loss: 0.0042 - val_acc: 0.9991\n",
      "Epoch 8/25\n",
      "126956/126956 [==============================] - 18s 138us/step - loss: 0.0066 - acc: 0.9987 - val_loss: 0.0045 - val_acc: 0.9992\n",
      "Epoch 9/25\n",
      "126956/126956 [==============================] - 17s 134us/step - loss: 0.0063 - acc: 0.9988 - val_loss: 0.0041 - val_acc: 0.9994\n",
      "Epoch 10/25\n",
      "126956/126956 [==============================] - 18s 139us/step - loss: 0.0062 - acc: 0.9989 - val_loss: 0.0046 - val_acc: 0.9992\n",
      "Epoch 11/25\n",
      "126956/126956 [==============================] - 18s 140us/step - loss: 0.0062 - acc: 0.9988 - val_loss: 0.0042 - val_acc: 0.9991\n",
      "Epoch 12/25\n",
      "126956/126956 [==============================] - 17s 136us/step - loss: 0.0059 - acc: 0.9989 - val_loss: 0.0039 - val_acc: 0.9993\n",
      "Epoch 13/25\n",
      "126956/126956 [==============================] - 17s 135us/step - loss: 0.0059 - acc: 0.9990 - val_loss: 0.0037 - val_acc: 0.9994\n",
      "Epoch 14/25\n",
      "126956/126956 [==============================] - 17s 135us/step - loss: 0.0060 - acc: 0.9989 - val_loss: 0.0042 - val_acc: 0.9994\n",
      "Epoch 15/25\n",
      "126956/126956 [==============================] - 17s 134us/step - loss: 0.0060 - acc: 0.9989 - val_loss: 0.0036 - val_acc: 0.9993\n",
      "Epoch 16/25\n",
      "126956/126956 [==============================] - 17s 136us/step - loss: 0.0060 - acc: 0.9989 - val_loss: 0.0033 - val_acc: 0.9994\n",
      "Epoch 17/25\n",
      "126956/126956 [==============================] - 17s 136us/step - loss: 0.0058 - acc: 0.9989 - val_loss: 0.0038 - val_acc: 0.9994\n",
      "Epoch 18/25\n",
      "126956/126956 [==============================] - 17s 136us/step - loss: 0.0058 - acc: 0.9990 - val_loss: 0.0038 - val_acc: 0.9993\n",
      "Epoch 19/25\n",
      "126956/126956 [==============================] - 18s 142us/step - loss: 0.0056 - acc: 0.9990 - val_loss: 0.0032 - val_acc: 0.9995\n",
      "Epoch 20/25\n",
      "126956/126956 [==============================] - 17s 135us/step - loss: 0.0053 - acc: 0.9990 - val_loss: 0.0035 - val_acc: 0.9993\n",
      "Epoch 21/25\n",
      "126956/126956 [==============================] - 17s 137us/step - loss: 0.0058 - acc: 0.9989 - val_loss: 0.0038 - val_acc: 0.9992\n",
      "Epoch 22/25\n",
      "126956/126956 [==============================] - 17s 135us/step - loss: 0.0053 - acc: 0.9990 - val_loss: 0.0038 - val_acc: 0.9993\n",
      "Epoch 23/25\n",
      "126956/126956 [==============================] - 17s 135us/step - loss: 0.0057 - acc: 0.9990 - val_loss: 0.0035 - val_acc: 0.9994\n",
      "Epoch 24/25\n",
      "126956/126956 [==============================] - 17s 135us/step - loss: 0.0054 - acc: 0.9991 - val_loss: 0.0036 - val_acc: 0.9994\n",
      "Epoch 25/25\n",
      "126956/126956 [==============================] - 17s 135us/step - loss: 0.0057 - acc: 0.9990 - val_loss: 0.0035 - val_acc: 0.9992\n"
     ]
    }
   ],
   "source": [
    "model.compile(optimizer=Adam(0.001), loss='binary_crossentropy', metrics=['accuracy'])\n",
    "History = model.fit(X_train1, Y_train,  \n",
    "              epochs=25,\n",
    "              validation_data=(X_validate, y_validate)\n",
    "             )"
   ]
  },
  {
   "cell_type": "code",
   "execution_count": 26,
   "metadata": {},
   "outputs": [
    {
     "name": "stdout",
     "output_type": "stream",
     "text": [
      "Accuracy Score:  0.9995746792372581\n",
      "Precision Score:  0.9807692307692307\n",
      "Recall Score:  0.9107142857142857\n",
      "F1 score:  0.9444444444444444\n",
      "False negative rate:  0.08928571428571429\n"
     ]
    },
    {
     "data": {
      "image/png": "[encoded data removed]",
      "text/plain": [
       "<Figure size 432x288 with 2 Axes>"
      ]
     },
     "metadata": {},
     "output_type": "display_data"
    }
   ],
   "source": [
    "y_test_pred = model.predict(X_test)\n",
    "df_cm = pd.DataFrame(confusion_matrix(Y_test, y_test_pred.round()), range(2),range(2))\n",
    "sns.set(font_scale=1.4)#for label size\n",
    "sns.heatmap(df_cm, annot=True,annot_kws={\"size\": 16}, fmt='g')\n",
    "print(\"Accuracy Score: \",accuracy_score(Y_test, y_test_pred.round()))\n",
    "print(\"Precision Score: \",precision_score(Y_test, y_test_pred.round()))\n",
    "print(\"Recall Score: \",recall_score(Y_test, y_test_pred.round()))\n",
    "print(\"F1 score: \",f1_score(Y_test, y_test_pred.round()))\n",
    "print(\"False negative rate: \",df_cm[0][1]/(df_cm[0][1]+df_cm[1][1]))"
   ]
  },
  {
   "cell_type": "markdown",
   "metadata": {},
   "source": [
    "### Result"
   ]
  },
  {
   "cell_type": "markdown",
   "metadata": {},
   "source": [
    "Models| TP| FP | TN | FN | Recall | Precision | F1 Score | Accuracy\n",
    " :- | :- |  :- | :- |:- |:- |:- |:- |:-\n",
    "CNN with all features| 51|1|14049|5|0.911|0.981|0.944|0.9996\n",
    "CNN with selected features| 45|3|14048|11|0.804|0.938|0.865|0.999\n",
    "CNN with SMOTE| 54|100| 13951| 2| 0.964|0.35|0.524|0.993|"
   ]
  },
  {
   "cell_type": "markdown",
   "metadata": {},
   "source": [
    "CNN with Smote has highest Recall, but since Smote technique generate too much noise, so it decrease the precision, overall, we think CNN with all features would be the best model, it reached highest, precision, F1 score, accuracy and 0.911 recall."
   ]
  },
  {
   "cell_type": "code",
   "execution_count": null,
   "metadata": {},
   "outputs": [],
   "source": []
  }
 ],
 "metadata": {
  "kernelspec": {
   "display_name": "Python 3",
   "language": "python",
   "name": "python3"
  },
  "language_info": {
   "codemirror_mode": {
    "name": "ipython",
    "version": 3
   },
   "file_extension": ".py",
   "mimetype": "text/x-python",
   "name": "python",
   "nbconvert_exporter": "python",
   "pygments_lexer": "ipython3",
   "version": "3.7.1"
  }
 },
 "nbformat": 4,
 "nbformat_minor": 2
}
